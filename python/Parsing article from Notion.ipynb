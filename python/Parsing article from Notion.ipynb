{
 "cells": [
  {
   "cell_type": "code",
   "execution_count": 1,
   "metadata": {
    "ExecuteTime": {
     "end_time": "2020-12-22T11:20:00.956962Z",
     "start_time": "2020-12-22T11:19:59.625913Z"
    }
   },
   "outputs": [],
   "source": [
    "# Base Data Science snippet\n",
    "import pandas as pd\n",
    "import numpy as np\n",
    "import matplotlib.pyplot as plt\n",
    "import os\n",
    "import time\n",
    "from tqdm import tqdm_notebook\n",
    "\n",
    "%matplotlib inline\n",
    "%load_ext autoreload\n",
    "%autoreload 2"
   ]
  },
  {
   "cell_type": "code",
   "execution_count": 2,
   "metadata": {
    "ExecuteTime": {
     "end_time": "2020-12-22T11:20:12.222394Z",
     "start_time": "2020-12-22T11:20:10.327125Z"
    }
   },
   "outputs": [],
   "source": [
    "from notion.client import NotionClient"
   ]
  },
  {
   "cell_type": "code",
   "execution_count": 78,
   "metadata": {
    "ExecuteTime": {
     "end_time": "2020-12-22T11:46:11.470000Z",
     "start_time": "2020-12-22T11:46:11.328154Z"
    }
   },
   "outputs": [],
   "source": [
    "TOKENCOOKIE = \"f1e0368bf2dcf5ff2ec12436004243590ba0722341111eaba8f2813a3a67155b72d51d0f7958f750b82c3eb60dda1714ef1bd30948d3bffb6e518cd732263a65ed92faa6a33eed37c6291a52e307\""
   ]
  },
  {
   "cell_type": "code",
   "execution_count": 79,
   "metadata": {
    "ExecuteTime": {
     "end_time": "2020-12-22T11:46:12.471166Z",
     "start_time": "2020-12-22T11:46:11.685895Z"
    }
   },
   "outputs": [],
   "source": [
    "client = NotionClient(TOKENCOOKIE)\n",
    "homepage = client.get_block(\"https://www.notion.so/dataforgood/Articles-5dcab81b5eea4bd1ad7aeafc6e496733\")"
   ]
  },
  {
   "cell_type": "code",
   "execution_count": 81,
   "metadata": {
    "ExecuteTime": {
     "end_time": "2020-12-22T11:46:39.341954Z",
     "start_time": "2020-12-22T11:46:39.204255Z"
    }
   },
   "outputs": [],
   "source": [
    "articles = homepage.children\n",
    "article = articles[0]\n",
    "# article.children"
   ]
  },
  {
   "cell_type": "code",
   "execution_count": 94,
   "metadata": {
    "ExecuteTime": {
     "end_time": "2020-12-22T16:19:26.628550Z",
     "start_time": "2020-12-22T16:19:26.077517Z"
    }
   },
   "outputs": [],
   "source": [
    "from PIL import Image\n",
    "import requests\n",
    "import uuid\n",
    "from io import BytesIO\n",
    "\n",
    "\n",
    "def parse_block(x):\n",
    "    \n",
    "    if x.type == \"header\":\n",
    "        return f\"# {x.title}\"\n",
    "    elif x.type == \"sub_header\":\n",
    "        return f\"## {x.title}\"\n",
    "    elif x.type == \"sub_sub_header\":\n",
    "        return f\"### {x.title}\"\n",
    "    elif x.type == \"bulleted_list\":\n",
    "        return f\"- {x.title}\"\n",
    "    elif x.type == \"image\":\n",
    "        src = x.source\n",
    "        img = f\"{uuid.uuid1()}.png\"\n",
    "        download_image_from_url(src,img)\n",
    "        return f\"![]({img})\"\n",
    "    elif x.type == \"text\":\n",
    "        return x.title\n",
    "    elif x.type == \"code\":\n",
    "        return f\"\"\"\n",
    "        ```{x.language.lower()}\n",
    "        {x.title}\n",
    "        ```\n",
    "        \"\"\".strip()\n",
    "\n",
    "\n",
    "def open_image_from_url(url):\n",
    "    r = requests.get(url)\n",
    "    img = Image.open(BytesIO(r.content),\"r\")\n",
    "    return img\n",
    "\n",
    "def download_image_from_url(url,path):\n",
    "    img = open_image_from_url(url)\n",
    "    img.save(path)\n",
    "    \n",
    "def save_md(text,filepath):\n",
    "    with open(filepath,\"w\",encoding='utf8') as file:\n",
    "        file.write(text)\n",
    "    \n",
    "    \n",
    "def parse_page(page):\n",
    "    markdown = []\n",
    "    markdown.append(f\"# {page.title}\")\n",
    "    children = page.children\n",
    "    markdown.extend([parse_block(x) for x in children])\n",
    "    return \"\\n\".join(markdown).strip()"
   ]
  },
  {
   "cell_type": "code",
   "execution_count": 91,
   "metadata": {
    "ExecuteTime": {
     "end_time": "2020-12-22T11:51:44.939382Z",
     "start_time": "2020-12-22T11:51:42.114915Z"
    }
   },
   "outputs": [],
   "source": [
    "text = parse_page(article)"
   ]
  },
  {
   "cell_type": "code",
   "execution_count": 92,
   "metadata": {
    "ExecuteTime": {
     "end_time": "2020-12-22T11:51:56.844150Z",
     "start_time": "2020-12-22T11:51:56.691069Z"
    }
   },
   "outputs": [],
   "source": [
    "save_md(text,\"test.md\")"
   ]
  },
  {
   "cell_type": "code",
   "execution_count": 93,
   "metadata": {
    "ExecuteTime": {
     "end_time": "2020-12-22T11:52:00.601769Z",
     "start_time": "2020-12-22T11:52:00.246563Z"
    }
   },
   "outputs": [],
   "source": [
    "! start ."
   ]
  },
  {
   "cell_type": "code",
   "execution_count": 17,
   "metadata": {
    "ExecuteTime": {
     "end_time": "2020-12-22T11:27:15.878412Z",
     "start_time": "2020-12-22T11:27:15.728851Z"
    }
   },
   "outputs": [
    {
     "data": {
      "text/plain": [
       "'Test'"
      ]
     },
     "execution_count": 17,
     "metadata": {},
     "output_type": "execute_result"
    }
   ],
   "source": [
    "article.title"
   ]
  },
  {
   "cell_type": "code",
   "execution_count": 15,
   "metadata": {
    "ExecuteTime": {
     "end_time": "2020-12-22T11:26:41.978447Z",
     "start_time": "2020-12-22T11:26:41.840075Z"
    }
   },
   "outputs": [
    {
     "data": {
      "text/plain": [
       "<TextBlock (id='adffa112-68bb-4545-b8dd-b019f4c487fc', title='Coucou')>"
      ]
     },
     "execution_count": 15,
     "metadata": {},
     "output_type": "execute_result"
    }
   ],
   "source": []
  },
  {
   "cell_type": "code",
   "execution_count": null,
   "metadata": {},
   "outputs": [],
   "source": []
  }
 ],
 "metadata": {
  "kernelspec": {
   "display_name": "Python 3",
   "language": "python",
   "name": "python3"
  },
  "language_info": {
   "codemirror_mode": {
    "name": "ipython",
    "version": 3
   },
   "file_extension": ".py",
   "mimetype": "text/x-python",
   "name": "python",
   "nbconvert_exporter": "python",
   "pygments_lexer": "ipython3",
   "version": "3.7.4"
  },
  "toc": {
   "base_numbering": 1,
   "nav_menu": {},
   "number_sections": true,
   "sideBar": true,
   "skip_h1_title": false,
   "title_cell": "Table of Contents",
   "title_sidebar": "Contents",
   "toc_cell": false,
   "toc_position": {},
   "toc_section_display": true,
   "toc_window_display": false
  }
 },
 "nbformat": 4,
 "nbformat_minor": 4
}
